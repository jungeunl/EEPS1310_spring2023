{
 "cells": [
  {
   "cell_type": "markdown",
   "id": "28fddb0c-ba18-4c6c-a594-771778d0061f",
   "metadata": {},
   "source": [
    "### data catalog\n",
    "https://psl.noaa.gov/thredds/catalog/catalog.html"
   ]
  },
  {
   "cell_type": "code",
   "execution_count": 18,
   "id": "76959cfe-6988-43cb-81a0-bbe63ea58f5b",
   "metadata": {},
   "outputs": [],
   "source": [
    "import xarray as xr\n",
    "import numpy as np"
   ]
  },
  {
   "cell_type": "code",
   "execution_count": null,
   "id": "1d018822-fd8e-4f44-b2cd-aed26df158be",
   "metadata": {},
   "outputs": [],
   "source": [
    "file_loc=\"https://psl.noaa.gov/thredds/dodsC/Datasets/ncep.reanalysis2.derived/LTMs/gaussian_grid/\"\n",
    "file1=\"lhtfl.sfc.mon.ltm.nc\"\n",
    "ds1 = xr.open_dataset(file_loc+file1)\n",
    "ds1"
   ]
  },
  {
   "cell_type": "code",
   "execution_count": null,
   "id": "12848cdd-fef2-4d24-b4a4-2300773b6e8f",
   "metadata": {},
   "outputs": [],
   "source": [
    "# January latent heat flux\n",
    "ds1.lhtfl.isel(time=0).plot()"
   ]
  },
  {
   "cell_type": "code",
   "execution_count": null,
   "id": "36ce6f38-7e80-435c-9f00-519815b10a92",
   "metadata": {},
   "outputs": [],
   "source": [
    "# July latent heat flux?\n"
   ]
  },
  {
   "cell_type": "code",
   "execution_count": null,
   "id": "54ef2ac5-04a3-4c5d-a1c1-bfabff785956",
   "metadata": {},
   "outputs": [],
   "source": [
    "file2='uwnd.10m.mon.ltm.nc'\n",
    "file3='vwnd.10m.mon.ltm.nc'\n",
    "ds2=xr.open_dataset(file_loc+file2)\n",
    "ds3=xr.open_dataset(file_loc+file3)\n",
    "ds3"
   ]
  },
  {
   "cell_type": "code",
   "execution_count": 26,
   "id": "ced030ed-fd49-400a-a6b8-013b87d30869",
   "metadata": {},
   "outputs": [],
   "source": [
    "wnd=np.sqrt(ds2.uwnd**2+ds3.vwnd**2)"
   ]
  },
  {
   "cell_type": "code",
   "execution_count": null,
   "id": "ec3c745d-d8d7-4af2-8eea-4855aed5b0ad",
   "metadata": {},
   "outputs": [],
   "source": [
    "ds2.uwnd.isel(time=0).plot()"
   ]
  },
  {
   "cell_type": "code",
   "execution_count": null,
   "id": "5abda686-e7f2-4d90-97b7-641c80deb8f8",
   "metadata": {},
   "outputs": [],
   "source": [
    "ds3.vwnd.isel(time=0).plot()"
   ]
  },
  {
   "cell_type": "code",
   "execution_count": null,
   "id": "00828006-ebf6-45bb-b8a4-4dc15abc9051",
   "metadata": {},
   "outputs": [],
   "source": [
    "wnd.isel(time=0).plot()"
   ]
  }
 ],
 "metadata": {
  "kernelspec": {
   "display_name": "Python 3 (ipykernel)",
   "language": "python",
   "name": "python3"
  },
  "language_info": {
   "codemirror_mode": {
    "name": "ipython",
    "version": 3
   },
   "file_extension": ".py",
   "mimetype": "text/x-python",
   "name": "python",
   "nbconvert_exporter": "python",
   "pygments_lexer": "ipython3",
   "version": "3.10.8"
  }
 },
 "nbformat": 4,
 "nbformat_minor": 5
}
