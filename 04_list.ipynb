{
 "cells": [
  {
   "cell_type": "markdown",
   "metadata": {
    "id": "9_sRZIjWbXG-"
   },
   "source": [
    "# Lists"
   ]
  },
  {
   "cell_type": "markdown",
   "metadata": {
    "id": "4puQxL8abXHI"
   },
   "source": [
    "## Python program"
   ]
  },
  {
   "cell_type": "markdown",
   "metadata": {
    "id": "TPN6Qn96bXHJ"
   },
   "source": [
    "Till now, we are only entering commands interactively in the interpreter.\n",
    "It is always better to write everything in a file and run it (imagine you want to re-run the same things later, or with different parameters).\n",
    "A python program is just a text file containing python instructions, with the extension .py. <br>\n",
    "You run it by typing python myProgram.py in your interpreter. <br>\n",
    "Or directly from within ipython: type  <br>\n",
    "%run myProgram.py <br>"
   ]
  },
  {
   "cell_type": "markdown",
   "metadata": {
    "id": "Cq6exR3RbXHK"
   },
   "source": [
    "# Lists\n",
    "\n",
    "- Compound data type used to group together\n",
    "> list1 = ['first', 'second', 'third'] <br>\n",
    "> list2 = [1, 2, 3] <br>\n",
    "> list3 = ['pi', 3.1415925, 'answer', 42] <br>\n",
    "> empyList = [ ] <br>\n",
    "- Values don't have to be of the same type\n",
    "- Lists can be modified after creation (they are mutable)\n",
    "- Elements can be changed, added, and deleted\n",
    "- Lists are versatile and are used extensively in typical python code"
   ]
  },
  {
   "cell_type": "markdown",
   "metadata": {
    "id": "1dXgexRCbXHK"
   },
   "source": [
    "## Lists: Accessing Elements\n",
    "- Individual list elements can be retrieved by providing the position of the item to be retrieved in square brackets [ ]\n",
    ">        0     1     2\n",
    "> list1 = ['first','second','third']\n",
    ">       -3    -2    -1\n",
    "- Indexing starts at 0\n",
    "- Negative indexes go backwards from the end\n",
    "- Individual list elements can be retrieved by providing the position of the item to be retrieved in square brackets [ ]"
   ]
  },
  {
   "cell_type": "code",
   "execution_count": 14,
   "metadata": {
    "id": "APiLvqKrbXHL",
    "outputId": "13827c88-070d-4504-fc85-1ff2c87852ea"
   },
   "outputs": [
    {
     "name": "stdout",
     "output_type": "stream",
     "text": [
      "first\n",
      "third\n"
     ]
    }
   ],
   "source": [
    "list1 = ['first','second','third']\n",
    "print(list1[0])\n",
    "print(list1[-1])"
   ]
  },
  {
   "cell_type": "code",
   "execution_count": 15,
   "metadata": {
    "id": "tfZ-EC0HbXHM",
    "outputId": "afbe052a-0297-4d3b-b393-e42d9d938127"
   },
   "outputs": [
    {
     "name": "stdout",
     "output_type": "stream",
     "text": [
      "pi is roughtly 3.1415925\n"
     ]
    }
   ],
   "source": [
    "list3 = ['pi', 3.1415925, 'answer', 42] \n",
    "print(f\"{list3[0]} is roughtly {list3[1]}\")"
   ]
  },
  {
   "cell_type": "markdown",
   "metadata": {
    "id": "yZyY3DkZbXHN"
   },
   "source": [
    "#### Exercise\n",
    "Create list2 = [1, 2, 3] and print the last element. "
   ]
  },
  {
   "cell_type": "code",
   "execution_count": 16,
   "metadata": {
    "id": "62V8Y82tbXHN"
   },
   "outputs": [
    {
     "name": "stdout",
     "output_type": "stream",
     "text": [
      "3\n"
     ]
    }
   ],
   "source": [
    "list2=[1,2,3]\n",
    "print(list2[-1])"
   ]
  },
  {
   "cell_type": "markdown",
   "metadata": {
    "id": "RUIR05QCbXHO"
   },
   "source": [
    "## List: Length\n",
    "- The length of a list can be determined using the len( ) function"
   ]
  },
  {
   "cell_type": "code",
   "execution_count": 17,
   "metadata": {
    "id": "-5aLQ8VSbXHO",
    "outputId": "84244bf6-eb93-455f-bd4a-da11f2bc434f"
   },
   "outputs": [
    {
     "data": {
      "text/plain": [
       "3"
      ]
     },
     "execution_count": 17,
     "metadata": {},
     "output_type": "execute_result"
    }
   ],
   "source": [
    "len(list1)"
   ]
  },
  {
   "cell_type": "markdown",
   "metadata": {
    "id": "w_M68ADjbXHP"
   },
   "source": [
    "### Exercise\n",
    "Print the leghth of list2."
   ]
  },
  {
   "cell_type": "code",
   "execution_count": null,
   "metadata": {
    "id": "mnC26N3tbXHP"
   },
   "outputs": [],
   "source": []
  },
  {
   "cell_type": "markdown",
   "metadata": {
    "id": "egYsxb1abXHP"
   },
   "source": [
    "- Trying to retrieve an item past the end throws an IndexError."
   ]
  },
  {
   "cell_type": "code",
   "execution_count": 19,
   "metadata": {
    "id": "YZaKTlY-bXHQ",
    "outputId": "84e39b94-8022-4c8c-b36a-588ac3e06243"
   },
   "outputs": [
    {
     "ename": "IndexError",
     "evalue": "list index out of range",
     "output_type": "error",
     "traceback": [
      "\u001b[0;31m---------------------------------------------------------------------------\u001b[0m",
      "\u001b[0;31mIndexError\u001b[0m                                Traceback (most recent call last)",
      "Cell \u001b[0;32mIn [19], line 1\u001b[0m\n\u001b[0;32m----> 1\u001b[0m \u001b[43mlist1\u001b[49m\u001b[43m[\u001b[49m\u001b[38;5;241;43m3\u001b[39;49m\u001b[43m]\u001b[49m\n",
      "\u001b[0;31mIndexError\u001b[0m: list index out of range"
     ]
    }
   ],
   "source": [
    "list1[3]"
   ]
  },
  {
   "cell_type": "markdown",
   "metadata": {
    "id": "4EJFi2rgbXHQ"
   },
   "source": [
    "## Lists: Changing items\n",
    "- Items can be modified by using the [ ] notation on the left-hand side of an assignment"
   ]
  },
  {
   "cell_type": "code",
   "execution_count": 20,
   "metadata": {
    "id": "V6wpyMC3bXHR",
    "outputId": "3d4c77d8-40cb-497a-cd96-aeab44d3bf4f"
   },
   "outputs": [
    {
     "name": "stdout",
     "output_type": "stream",
     "text": [
      "pi is roughtly 3.1415925\n",
      "pi is roughtly 3.14\n"
     ]
    }
   ],
   "source": [
    "print(f\"{list3[0]} is roughtly {list3[1]}\")\n",
    "list3[1]=3.14\n",
    "print(f\"{list3[0]} is roughtly {list3[1]}\")"
   ]
  },
  {
   "cell_type": "markdown",
   "metadata": {
    "id": "V_ytNgbcbXHR"
   },
   "source": [
    "## Lists: Appending and Extending\n",
    "- An item can be appended to the end of a list using append"
   ]
  },
  {
   "cell_type": "code",
   "execution_count": 21,
   "metadata": {
    "id": "QIUMQZJYbXHS",
    "outputId": "45d5236f-6c23-4612-9e8d-1e755839c5f0"
   },
   "outputs": [
    {
     "name": "stdout",
     "output_type": "stream",
     "text": [
      "3\n",
      "fourth\n",
      "4\n"
     ]
    }
   ],
   "source": [
    "print(len(list1))\n",
    "list1.append('fourth')\n",
    "print(list1[-1])\n",
    "print(len(list1))"
   ]
  },
  {
   "cell_type": "markdown",
   "metadata": {
    "id": "v13ERbDybXHT"
   },
   "source": [
    "- A list of items can be appended to the end of a list using extend"
   ]
  },
  {
   "cell_type": "code",
   "execution_count": 22,
   "metadata": {
    "id": "djnS3tOIbXHU",
    "outputId": "02591747-3cd7-450b-9983-a4b59b069c4a"
   },
   "outputs": [
    {
     "name": "stdout",
     "output_type": "stream",
     "text": [
      "['first', 'second', 'third', 'fourth', 'fifth', 'sixth']\n"
     ]
    }
   ],
   "source": [
    "list1.extend([\"fifth\",\"sixth\"])\n",
    "print(list1)"
   ]
  },
  {
   "cell_type": "markdown",
   "metadata": {
    "id": "guRKRmDkbXHV"
   },
   "source": [
    "## Lists: Slicing\n",
    "- A copy of a sublist can be created using the slice operator\n",
    "> list[start:end]\n",
    "- The elements at the index start is included, the one at end is excluded <br>\n",
    "- Both indices can be ommitted, defaulting to the start and end of the list respectively <br>"
   ]
  },
  {
   "cell_type": "code",
   "execution_count": 24,
   "metadata": {
    "id": "OdITUTyBbXHW",
    "outputId": "56003fb7-3dbe-4253-b48b-9c2f30d6646d"
   },
   "outputs": [
    {
     "name": "stdout",
     "output_type": "stream",
     "text": [
      "['first']\n",
      "['second', 'third']\n",
      "['first', 'second']\n",
      "['second', 'third', 'fourth', 'fifth', 'sixth']\n",
      "['first', 'second', 'third', 'fourth', 'fifth', 'sixth']\n",
      "['first', 'second', 'third', 'fourth', 'fifth', 'sixth']\n"
     ]
    }
   ],
   "source": [
    "print(list1[0:1])\n",
    "print(list1[1:3])\n",
    "print(list1[:2])\n",
    "print(list1[1:])\n",
    "print(list1[:])\n",
    "print(list1)"
   ]
  },
  {
   "cell_type": "markdown",
   "metadata": {
    "id": "c96GnJLabXHX"
   },
   "source": [
    "#### Exercise\n",
    "Run the following cell. This is observed tropical specific humidity."
   ]
  },
  {
   "cell_type": "code",
   "execution_count": 10,
   "metadata": {},
   "outputs": [],
   "source": [
    "#import necessary modules\n",
    "import numpy as np  \n",
    "import matplotlib.pyplot as plt  # to make plots\n",
    "import xarray as xr   # to read netcdf files\n",
    "import cartopy.crs as ccrs  # to add maps"
   ]
  },
  {
   "cell_type": "code",
   "execution_count": 25,
   "metadata": {
    "id": "MJIvmGHPbXHX"
   },
   "outputs": [],
   "source": [
    "# Mean specific humidity in the tropics (g/kg)\n",
    "q = [16.8,12.9,9.4,6.2,4.4,2.5,1.8,1.2,0.6,0.2]\n",
    "# Height (km)\n",
    "h = [0,1,2,3,4,5,6,7,8,9]"
   ]
  },
  {
   "cell_type": "markdown",
   "metadata": {
    "id": "6cXqS8QjbXHY"
   },
   "source": [
    "#### Exercise\n",
    "Print the first element in q and h."
   ]
  },
  {
   "cell_type": "code",
   "execution_count": null,
   "metadata": {
    "id": "Ja-mFVKdbXHZ"
   },
   "outputs": [],
   "source": []
  },
  {
   "cell_type": "markdown",
   "metadata": {
    "id": "iGdI7BnDbXHZ"
   },
   "source": [
    "#### Exercise\n",
    "Print the third element in q and h."
   ]
  },
  {
   "cell_type": "code",
   "execution_count": null,
   "metadata": {
    "id": "wt5BYz3YbXHZ"
   },
   "outputs": [],
   "source": []
  },
  {
   "cell_type": "markdown",
   "metadata": {
    "id": "zsOZPDmmbXHa"
   },
   "source": [
    "#### Exercise\n",
    "Print the last element in h."
   ]
  },
  {
   "cell_type": "code",
   "execution_count": null,
   "metadata": {
    "id": "pTMmj5n9bXHb"
   },
   "outputs": [],
   "source": []
  },
  {
   "cell_type": "markdown",
   "metadata": {
    "id": "GkSW8Bh-bXHb"
   },
   "source": [
    "#### Exercise\n",
    "Create a plot (x axis:q; y axis: h)"
   ]
  },
  {
   "cell_type": "code",
   "execution_count": null,
   "metadata": {
    "id": "4zqJW6BbbXHb"
   },
   "outputs": [],
   "source": []
  },
  {
   "cell_type": "markdown",
   "metadata": {},
   "source": [
    "### Recent weather"
   ]
  },
  {
   "cell_type": "code",
   "execution_count": 4,
   "metadata": {},
   "outputs": [
    {
     "data": {
      "text/html": [
       "<div><svg style=\"position: absolute; width: 0; height: 0; overflow: hidden\">\n",
       "<defs>\n",
       "<symbol id=\"icon-database\" viewBox=\"0 0 32 32\">\n",
       "<path d=\"M16 0c-8.837 0-16 2.239-16 5v4c0 2.761 7.163 5 16 5s16-2.239 16-5v-4c0-2.761-7.163-5-16-5z\"></path>\n",
       "<path d=\"M16 17c-8.837 0-16-2.239-16-5v6c0 2.761 7.163 5 16 5s16-2.239 16-5v-6c0 2.761-7.163 5-16 5z\"></path>\n",
       "<path d=\"M16 26c-8.837 0-16-2.239-16-5v6c0 2.761 7.163 5 16 5s16-2.239 16-5v-6c0 2.761-7.163 5-16 5z\"></path>\n",
       "</symbol>\n",
       "<symbol id=\"icon-file-text2\" viewBox=\"0 0 32 32\">\n",
       "<path d=\"M28.681 7.159c-0.694-0.947-1.662-2.053-2.724-3.116s-2.169-2.030-3.116-2.724c-1.612-1.182-2.393-1.319-2.841-1.319h-15.5c-1.378 0-2.5 1.121-2.5 2.5v27c0 1.378 1.122 2.5 2.5 2.5h23c1.378 0 2.5-1.122 2.5-2.5v-19.5c0-0.448-0.137-1.23-1.319-2.841zM24.543 5.457c0.959 0.959 1.712 1.825 2.268 2.543h-4.811v-4.811c0.718 0.556 1.584 1.309 2.543 2.268zM28 29.5c0 0.271-0.229 0.5-0.5 0.5h-23c-0.271 0-0.5-0.229-0.5-0.5v-27c0-0.271 0.229-0.5 0.5-0.5 0 0 15.499-0 15.5 0v7c0 0.552 0.448 1 1 1h7v19.5z\"></path>\n",
       "<path d=\"M23 26h-14c-0.552 0-1-0.448-1-1s0.448-1 1-1h14c0.552 0 1 0.448 1 1s-0.448 1-1 1z\"></path>\n",
       "<path d=\"M23 22h-14c-0.552 0-1-0.448-1-1s0.448-1 1-1h14c0.552 0 1 0.448 1 1s-0.448 1-1 1z\"></path>\n",
       "<path d=\"M23 18h-14c-0.552 0-1-0.448-1-1s0.448-1 1-1h14c0.552 0 1 0.448 1 1s-0.448 1-1 1z\"></path>\n",
       "</symbol>\n",
       "</defs>\n",
       "</svg>\n",
       "<style>/* CSS stylesheet for displaying xarray objects in jupyterlab.\n",
       " *\n",
       " */\n",
       "\n",
       ":root {\n",
       "  --xr-font-color0: var(--jp-content-font-color0, rgba(0, 0, 0, 1));\n",
       "  --xr-font-color2: var(--jp-content-font-color2, rgba(0, 0, 0, 0.54));\n",
       "  --xr-font-color3: var(--jp-content-font-color3, rgba(0, 0, 0, 0.38));\n",
       "  --xr-border-color: var(--jp-border-color2, #e0e0e0);\n",
       "  --xr-disabled-color: var(--jp-layout-color3, #bdbdbd);\n",
       "  --xr-background-color: var(--jp-layout-color0, white);\n",
       "  --xr-background-color-row-even: var(--jp-layout-color1, white);\n",
       "  --xr-background-color-row-odd: var(--jp-layout-color2, #eeeeee);\n",
       "}\n",
       "\n",
       "html[theme=dark],\n",
       "body[data-theme=dark],\n",
       "body.vscode-dark {\n",
       "  --xr-font-color0: rgba(255, 255, 255, 1);\n",
       "  --xr-font-color2: rgba(255, 255, 255, 0.54);\n",
       "  --xr-font-color3: rgba(255, 255, 255, 0.38);\n",
       "  --xr-border-color: #1F1F1F;\n",
       "  --xr-disabled-color: #515151;\n",
       "  --xr-background-color: #111111;\n",
       "  --xr-background-color-row-even: #111111;\n",
       "  --xr-background-color-row-odd: #313131;\n",
       "}\n",
       "\n",
       ".xr-wrap {\n",
       "  display: block !important;\n",
       "  min-width: 300px;\n",
       "  max-width: 700px;\n",
       "}\n",
       "\n",
       ".xr-text-repr-fallback {\n",
       "  /* fallback to plain text repr when CSS is not injected (untrusted notebook) */\n",
       "  display: none;\n",
       "}\n",
       "\n",
       ".xr-header {\n",
       "  padding-top: 6px;\n",
       "  padding-bottom: 6px;\n",
       "  margin-bottom: 4px;\n",
       "  border-bottom: solid 1px var(--xr-border-color);\n",
       "}\n",
       "\n",
       ".xr-header > div,\n",
       ".xr-header > ul {\n",
       "  display: inline;\n",
       "  margin-top: 0;\n",
       "  margin-bottom: 0;\n",
       "}\n",
       "\n",
       ".xr-obj-type,\n",
       ".xr-array-name {\n",
       "  margin-left: 2px;\n",
       "  margin-right: 10px;\n",
       "}\n",
       "\n",
       ".xr-obj-type {\n",
       "  color: var(--xr-font-color2);\n",
       "}\n",
       "\n",
       ".xr-sections {\n",
       "  padding-left: 0 !important;\n",
       "  display: grid;\n",
       "  grid-template-columns: 150px auto auto 1fr 20px 20px;\n",
       "}\n",
       "\n",
       ".xr-section-item {\n",
       "  display: contents;\n",
       "}\n",
       "\n",
       ".xr-section-item input {\n",
       "  display: none;\n",
       "}\n",
       "\n",
       ".xr-section-item input + label {\n",
       "  color: var(--xr-disabled-color);\n",
       "}\n",
       "\n",
       ".xr-section-item input:enabled + label {\n",
       "  cursor: pointer;\n",
       "  color: var(--xr-font-color2);\n",
       "}\n",
       "\n",
       ".xr-section-item input:enabled + label:hover {\n",
       "  color: var(--xr-font-color0);\n",
       "}\n",
       "\n",
       ".xr-section-summary {\n",
       "  grid-column: 1;\n",
       "  color: var(--xr-font-color2);\n",
       "  font-weight: 500;\n",
       "}\n",
       "\n",
       ".xr-section-summary > span {\n",
       "  display: inline-block;\n",
       "  padding-left: 0.5em;\n",
       "}\n",
       "\n",
       ".xr-section-summary-in:disabled + label {\n",
       "  color: var(--xr-font-color2);\n",
       "}\n",
       "\n",
       ".xr-section-summary-in + label:before {\n",
       "  display: inline-block;\n",
       "  content: '►';\n",
       "  font-size: 11px;\n",
       "  width: 15px;\n",
       "  text-align: center;\n",
       "}\n",
       "\n",
       ".xr-section-summary-in:disabled + label:before {\n",
       "  color: var(--xr-disabled-color);\n",
       "}\n",
       "\n",
       ".xr-section-summary-in:checked + label:before {\n",
       "  content: '▼';\n",
       "}\n",
       "\n",
       ".xr-section-summary-in:checked + label > span {\n",
       "  display: none;\n",
       "}\n",
       "\n",
       ".xr-section-summary,\n",
       ".xr-section-inline-details {\n",
       "  padding-top: 4px;\n",
       "  padding-bottom: 4px;\n",
       "}\n",
       "\n",
       ".xr-section-inline-details {\n",
       "  grid-column: 2 / -1;\n",
       "}\n",
       "\n",
       ".xr-section-details {\n",
       "  display: none;\n",
       "  grid-column: 1 / -1;\n",
       "  margin-bottom: 5px;\n",
       "}\n",
       "\n",
       ".xr-section-summary-in:checked ~ .xr-section-details {\n",
       "  display: contents;\n",
       "}\n",
       "\n",
       ".xr-array-wrap {\n",
       "  grid-column: 1 / -1;\n",
       "  display: grid;\n",
       "  grid-template-columns: 20px auto;\n",
       "}\n",
       "\n",
       ".xr-array-wrap > label {\n",
       "  grid-column: 1;\n",
       "  vertical-align: top;\n",
       "}\n",
       "\n",
       ".xr-preview {\n",
       "  color: var(--xr-font-color3);\n",
       "}\n",
       "\n",
       ".xr-array-preview,\n",
       ".xr-array-data {\n",
       "  padding: 0 5px !important;\n",
       "  grid-column: 2;\n",
       "}\n",
       "\n",
       ".xr-array-data,\n",
       ".xr-array-in:checked ~ .xr-array-preview {\n",
       "  display: none;\n",
       "}\n",
       "\n",
       ".xr-array-in:checked ~ .xr-array-data,\n",
       ".xr-array-preview {\n",
       "  display: inline-block;\n",
       "}\n",
       "\n",
       ".xr-dim-list {\n",
       "  display: inline-block !important;\n",
       "  list-style: none;\n",
       "  padding: 0 !important;\n",
       "  margin: 0;\n",
       "}\n",
       "\n",
       ".xr-dim-list li {\n",
       "  display: inline-block;\n",
       "  padding: 0;\n",
       "  margin: 0;\n",
       "}\n",
       "\n",
       ".xr-dim-list:before {\n",
       "  content: '(';\n",
       "}\n",
       "\n",
       ".xr-dim-list:after {\n",
       "  content: ')';\n",
       "}\n",
       "\n",
       ".xr-dim-list li:not(:last-child):after {\n",
       "  content: ',';\n",
       "  padding-right: 5px;\n",
       "}\n",
       "\n",
       ".xr-has-index {\n",
       "  font-weight: bold;\n",
       "}\n",
       "\n",
       ".xr-var-list,\n",
       ".xr-var-item {\n",
       "  display: contents;\n",
       "}\n",
       "\n",
       ".xr-var-item > div,\n",
       ".xr-var-item label,\n",
       ".xr-var-item > .xr-var-name span {\n",
       "  background-color: var(--xr-background-color-row-even);\n",
       "  margin-bottom: 0;\n",
       "}\n",
       "\n",
       ".xr-var-item > .xr-var-name:hover span {\n",
       "  padding-right: 5px;\n",
       "}\n",
       "\n",
       ".xr-var-list > li:nth-child(odd) > div,\n",
       ".xr-var-list > li:nth-child(odd) > label,\n",
       ".xr-var-list > li:nth-child(odd) > .xr-var-name span {\n",
       "  background-color: var(--xr-background-color-row-odd);\n",
       "}\n",
       "\n",
       ".xr-var-name {\n",
       "  grid-column: 1;\n",
       "}\n",
       "\n",
       ".xr-var-dims {\n",
       "  grid-column: 2;\n",
       "}\n",
       "\n",
       ".xr-var-dtype {\n",
       "  grid-column: 3;\n",
       "  text-align: right;\n",
       "  color: var(--xr-font-color2);\n",
       "}\n",
       "\n",
       ".xr-var-preview {\n",
       "  grid-column: 4;\n",
       "}\n",
       "\n",
       ".xr-index-preview {\n",
       "  grid-column: 2 / 5;\n",
       "  color: var(--xr-font-color2);\n",
       "}\n",
       "\n",
       ".xr-var-name,\n",
       ".xr-var-dims,\n",
       ".xr-var-dtype,\n",
       ".xr-preview,\n",
       ".xr-attrs dt {\n",
       "  white-space: nowrap;\n",
       "  overflow: hidden;\n",
       "  text-overflow: ellipsis;\n",
       "  padding-right: 10px;\n",
       "}\n",
       "\n",
       ".xr-var-name:hover,\n",
       ".xr-var-dims:hover,\n",
       ".xr-var-dtype:hover,\n",
       ".xr-attrs dt:hover {\n",
       "  overflow: visible;\n",
       "  width: auto;\n",
       "  z-index: 1;\n",
       "}\n",
       "\n",
       ".xr-var-attrs,\n",
       ".xr-var-data,\n",
       ".xr-index-data {\n",
       "  display: none;\n",
       "  background-color: var(--xr-background-color) !important;\n",
       "  padding-bottom: 5px !important;\n",
       "}\n",
       "\n",
       ".xr-var-attrs-in:checked ~ .xr-var-attrs,\n",
       ".xr-var-data-in:checked ~ .xr-var-data,\n",
       ".xr-index-data-in:checked ~ .xr-index-data {\n",
       "  display: block;\n",
       "}\n",
       "\n",
       ".xr-var-data > table {\n",
       "  float: right;\n",
       "}\n",
       "\n",
       ".xr-var-name span,\n",
       ".xr-var-data,\n",
       ".xr-index-name div,\n",
       ".xr-index-data,\n",
       ".xr-attrs {\n",
       "  padding-left: 25px !important;\n",
       "}\n",
       "\n",
       ".xr-attrs,\n",
       ".xr-var-attrs,\n",
       ".xr-var-data,\n",
       ".xr-index-data {\n",
       "  grid-column: 1 / -1;\n",
       "}\n",
       "\n",
       "dl.xr-attrs {\n",
       "  padding: 0;\n",
       "  margin: 0;\n",
       "  display: grid;\n",
       "  grid-template-columns: 125px auto;\n",
       "}\n",
       "\n",
       ".xr-attrs dt,\n",
       ".xr-attrs dd {\n",
       "  padding: 0;\n",
       "  margin: 0;\n",
       "  float: left;\n",
       "  padding-right: 10px;\n",
       "  width: auto;\n",
       "}\n",
       "\n",
       ".xr-attrs dt {\n",
       "  font-weight: normal;\n",
       "  grid-column: 1;\n",
       "}\n",
       "\n",
       ".xr-attrs dt:hover span {\n",
       "  display: inline-block;\n",
       "  background: var(--xr-background-color);\n",
       "  padding-right: 10px;\n",
       "}\n",
       "\n",
       ".xr-attrs dd {\n",
       "  grid-column: 2;\n",
       "  white-space: pre-wrap;\n",
       "  word-break: break-all;\n",
       "}\n",
       "\n",
       ".xr-icon-database,\n",
       ".xr-icon-file-text2,\n",
       ".xr-no-icon {\n",
       "  display: inline-block;\n",
       "  vertical-align: middle;\n",
       "  width: 1em;\n",
       "  height: 1.5em !important;\n",
       "  stroke-width: 0;\n",
       "  stroke: currentColor;\n",
       "  fill: currentColor;\n",
       "}\n",
       "</style><pre class='xr-text-repr-fallback'>&lt;xarray.Dataset&gt;\n",
       "Dimensions:  (lat: 73, lon: 144, time: 148)\n",
       "Coordinates:\n",
       "  * lat      (lat) float32 90.0 87.5 85.0 82.5 80.0 ... -82.5 -85.0 -87.5 -90.0\n",
       "  * lon      (lon) float32 0.0 2.5 5.0 7.5 10.0 ... 350.0 352.5 355.0 357.5\n",
       "  * time     (time) datetime64[ns] 2023-01-01 ... 2023-02-06T18:00:00\n",
       "Data variables:\n",
       "    air      (time, lat, lon) float32 ...\n",
       "Attributes:\n",
       "    Conventions:                     COARDS\n",
       "    title:                           4x daily NMC reanalysis (2014)\n",
       "    history:                         created 2022/12 by Hoop (netCDF2.3)\n",
       "    description:                     Data is from NMC initialized reanalysis\\...\n",
       "    platform:                        Model\n",
       "    dataset_title:                   NCEP-NCAR Reanalysis 1\n",
       "    References:                      http://www.psl.noaa.gov/data/gridded/dat...\n",
       "    _NCProperties:                   version=2,netcdf=4.7.0,hdf5=1.10.5,\n",
       "    DODS_EXTRA.Unlimited_Dimension:  time</pre><div class='xr-wrap' style='display:none'><div class='xr-header'><div class='xr-obj-type'>xarray.Dataset</div></div><ul class='xr-sections'><li class='xr-section-item'><input id='section-438c8fd5-064b-4d2f-ada3-71b80231708a' class='xr-section-summary-in' type='checkbox' disabled ><label for='section-438c8fd5-064b-4d2f-ada3-71b80231708a' class='xr-section-summary'  title='Expand/collapse section'>Dimensions:</label><div class='xr-section-inline-details'><ul class='xr-dim-list'><li><span class='xr-has-index'>lat</span>: 73</li><li><span class='xr-has-index'>lon</span>: 144</li><li><span class='xr-has-index'>time</span>: 148</li></ul></div><div class='xr-section-details'></div></li><li class='xr-section-item'><input id='section-0ca3cadd-dc5d-4f26-af3f-713fb9f013db' class='xr-section-summary-in' type='checkbox'  checked><label for='section-0ca3cadd-dc5d-4f26-af3f-713fb9f013db' class='xr-section-summary' >Coordinates: <span>(3)</span></label><div class='xr-section-inline-details'></div><div class='xr-section-details'><ul class='xr-var-list'><li class='xr-var-item'><div class='xr-var-name'><span class='xr-has-index'>lat</span></div><div class='xr-var-dims'>(lat)</div><div class='xr-var-dtype'>float32</div><div class='xr-var-preview xr-preview'>90.0 87.5 85.0 ... -87.5 -90.0</div><input id='attrs-651ebfc7-9df5-4327-a861-31d38321d22c' class='xr-var-attrs-in' type='checkbox' ><label for='attrs-651ebfc7-9df5-4327-a861-31d38321d22c' title='Show/Hide attributes'><svg class='icon xr-icon-file-text2'><use xlink:href='#icon-file-text2'></use></svg></label><input id='data-b6b0f06c-77ed-4555-8132-bc72b1c66918' class='xr-var-data-in' type='checkbox'><label for='data-b6b0f06c-77ed-4555-8132-bc72b1c66918' title='Show/Hide data repr'><svg class='icon xr-icon-database'><use xlink:href='#icon-database'></use></svg></label><div class='xr-var-attrs'><dl class='xr-attrs'><dt><span>units :</span></dt><dd>degrees_north</dd><dt><span>actual_range :</span></dt><dd>[ 90. -90.]</dd><dt><span>long_name :</span></dt><dd>Latitude</dd><dt><span>standard_name :</span></dt><dd>latitude</dd><dt><span>axis :</span></dt><dd>Y</dd></dl></div><div class='xr-var-data'><pre>array([ 90. ,  87.5,  85. ,  82.5,  80. ,  77.5,  75. ,  72.5,  70. ,  67.5,\n",
       "        65. ,  62.5,  60. ,  57.5,  55. ,  52.5,  50. ,  47.5,  45. ,  42.5,\n",
       "        40. ,  37.5,  35. ,  32.5,  30. ,  27.5,  25. ,  22.5,  20. ,  17.5,\n",
       "        15. ,  12.5,  10. ,   7.5,   5. ,   2.5,   0. ,  -2.5,  -5. ,  -7.5,\n",
       "       -10. , -12.5, -15. , -17.5, -20. , -22.5, -25. , -27.5, -30. , -32.5,\n",
       "       -35. , -37.5, -40. , -42.5, -45. , -47.5, -50. , -52.5, -55. , -57.5,\n",
       "       -60. , -62.5, -65. , -67.5, -70. , -72.5, -75. , -77.5, -80. , -82.5,\n",
       "       -85. , -87.5, -90. ], dtype=float32)</pre></div></li><li class='xr-var-item'><div class='xr-var-name'><span class='xr-has-index'>lon</span></div><div class='xr-var-dims'>(lon)</div><div class='xr-var-dtype'>float32</div><div class='xr-var-preview xr-preview'>0.0 2.5 5.0 ... 352.5 355.0 357.5</div><input id='attrs-a7d0da30-8f9a-42d8-a041-5a772711af6c' class='xr-var-attrs-in' type='checkbox' ><label for='attrs-a7d0da30-8f9a-42d8-a041-5a772711af6c' title='Show/Hide attributes'><svg class='icon xr-icon-file-text2'><use xlink:href='#icon-file-text2'></use></svg></label><input id='data-085df48b-0312-482d-b087-931e2662c0bc' class='xr-var-data-in' type='checkbox'><label for='data-085df48b-0312-482d-b087-931e2662c0bc' title='Show/Hide data repr'><svg class='icon xr-icon-database'><use xlink:href='#icon-database'></use></svg></label><div class='xr-var-attrs'><dl class='xr-attrs'><dt><span>units :</span></dt><dd>degrees_east</dd><dt><span>long_name :</span></dt><dd>Longitude</dd><dt><span>actual_range :</span></dt><dd>[  0.  357.5]</dd><dt><span>standard_name :</span></dt><dd>longitude</dd><dt><span>axis :</span></dt><dd>X</dd></dl></div><div class='xr-var-data'><pre>array([  0. ,   2.5,   5. ,   7.5,  10. ,  12.5,  15. ,  17.5,  20. ,  22.5,\n",
       "        25. ,  27.5,  30. ,  32.5,  35. ,  37.5,  40. ,  42.5,  45. ,  47.5,\n",
       "        50. ,  52.5,  55. ,  57.5,  60. ,  62.5,  65. ,  67.5,  70. ,  72.5,\n",
       "        75. ,  77.5,  80. ,  82.5,  85. ,  87.5,  90. ,  92.5,  95. ,  97.5,\n",
       "       100. , 102.5, 105. , 107.5, 110. , 112.5, 115. , 117.5, 120. , 122.5,\n",
       "       125. , 127.5, 130. , 132.5, 135. , 137.5, 140. , 142.5, 145. , 147.5,\n",
       "       150. , 152.5, 155. , 157.5, 160. , 162.5, 165. , 167.5, 170. , 172.5,\n",
       "       175. , 177.5, 180. , 182.5, 185. , 187.5, 190. , 192.5, 195. , 197.5,\n",
       "       200. , 202.5, 205. , 207.5, 210. , 212.5, 215. , 217.5, 220. , 222.5,\n",
       "       225. , 227.5, 230. , 232.5, 235. , 237.5, 240. , 242.5, 245. , 247.5,\n",
       "       250. , 252.5, 255. , 257.5, 260. , 262.5, 265. , 267.5, 270. , 272.5,\n",
       "       275. , 277.5, 280. , 282.5, 285. , 287.5, 290. , 292.5, 295. , 297.5,\n",
       "       300. , 302.5, 305. , 307.5, 310. , 312.5, 315. , 317.5, 320. , 322.5,\n",
       "       325. , 327.5, 330. , 332.5, 335. , 337.5, 340. , 342.5, 345. , 347.5,\n",
       "       350. , 352.5, 355. , 357.5], dtype=float32)</pre></div></li><li class='xr-var-item'><div class='xr-var-name'><span class='xr-has-index'>time</span></div><div class='xr-var-dims'>(time)</div><div class='xr-var-dtype'>datetime64[ns]</div><div class='xr-var-preview xr-preview'>2023-01-01 ... 2023-02-06T18:00:00</div><input id='attrs-c44ed1e2-4170-4fa6-99d4-d44e870550d8' class='xr-var-attrs-in' type='checkbox' ><label for='attrs-c44ed1e2-4170-4fa6-99d4-d44e870550d8' title='Show/Hide attributes'><svg class='icon xr-icon-file-text2'><use xlink:href='#icon-file-text2'></use></svg></label><input id='data-3a03bef6-66c0-452c-9768-808372d1c418' class='xr-var-data-in' type='checkbox'><label for='data-3a03bef6-66c0-452c-9768-808372d1c418' title='Show/Hide data repr'><svg class='icon xr-icon-database'><use xlink:href='#icon-database'></use></svg></label><div class='xr-var-attrs'><dl class='xr-attrs'><dt><span>long_name :</span></dt><dd>Time</dd><dt><span>delta_t :</span></dt><dd>0000-00-00 06:00:00</dd><dt><span>standard_name :</span></dt><dd>time</dd><dt><span>axis :</span></dt><dd>T</dd><dt><span>actual_range :</span></dt><dd>[1954776. 1955658.]</dd><dt><span>_ChunkSizes :</span></dt><dd>512</dd></dl></div><div class='xr-var-data'><pre>array([&#x27;2023-01-01T00:00:00.000000000&#x27;, &#x27;2023-01-01T06:00:00.000000000&#x27;,\n",
       "       &#x27;2023-01-01T12:00:00.000000000&#x27;, &#x27;2023-01-01T18:00:00.000000000&#x27;,\n",
       "       &#x27;2023-01-02T00:00:00.000000000&#x27;, &#x27;2023-01-02T06:00:00.000000000&#x27;,\n",
       "       &#x27;2023-01-02T12:00:00.000000000&#x27;, &#x27;2023-01-02T18:00:00.000000000&#x27;,\n",
       "       &#x27;2023-01-03T00:00:00.000000000&#x27;, &#x27;2023-01-03T06:00:00.000000000&#x27;,\n",
       "       &#x27;2023-01-03T12:00:00.000000000&#x27;, &#x27;2023-01-03T18:00:00.000000000&#x27;,\n",
       "       &#x27;2023-01-04T00:00:00.000000000&#x27;, &#x27;2023-01-04T06:00:00.000000000&#x27;,\n",
       "       &#x27;2023-01-04T12:00:00.000000000&#x27;, &#x27;2023-01-04T18:00:00.000000000&#x27;,\n",
       "       &#x27;2023-01-05T00:00:00.000000000&#x27;, &#x27;2023-01-05T06:00:00.000000000&#x27;,\n",
       "       &#x27;2023-01-05T12:00:00.000000000&#x27;, &#x27;2023-01-05T18:00:00.000000000&#x27;,\n",
       "       &#x27;2023-01-06T00:00:00.000000000&#x27;, &#x27;2023-01-06T06:00:00.000000000&#x27;,\n",
       "       &#x27;2023-01-06T12:00:00.000000000&#x27;, &#x27;2023-01-06T18:00:00.000000000&#x27;,\n",
       "       &#x27;2023-01-07T00:00:00.000000000&#x27;, &#x27;2023-01-07T06:00:00.000000000&#x27;,\n",
       "       &#x27;2023-01-07T12:00:00.000000000&#x27;, &#x27;2023-01-07T18:00:00.000000000&#x27;,\n",
       "       &#x27;2023-01-08T00:00:00.000000000&#x27;, &#x27;2023-01-08T06:00:00.000000000&#x27;,\n",
       "       &#x27;2023-01-08T12:00:00.000000000&#x27;, &#x27;2023-01-08T18:00:00.000000000&#x27;,\n",
       "       &#x27;2023-01-09T00:00:00.000000000&#x27;, &#x27;2023-01-09T06:00:00.000000000&#x27;,\n",
       "       &#x27;2023-01-09T12:00:00.000000000&#x27;, &#x27;2023-01-09T18:00:00.000000000&#x27;,\n",
       "       &#x27;2023-01-10T00:00:00.000000000&#x27;, &#x27;2023-01-10T06:00:00.000000000&#x27;,\n",
       "       &#x27;2023-01-10T12:00:00.000000000&#x27;, &#x27;2023-01-10T18:00:00.000000000&#x27;,\n",
       "       &#x27;2023-01-11T00:00:00.000000000&#x27;, &#x27;2023-01-11T06:00:00.000000000&#x27;,\n",
       "       &#x27;2023-01-11T12:00:00.000000000&#x27;, &#x27;2023-01-11T18:00:00.000000000&#x27;,\n",
       "       &#x27;2023-01-12T00:00:00.000000000&#x27;, &#x27;2023-01-12T06:00:00.000000000&#x27;,\n",
       "       &#x27;2023-01-12T12:00:00.000000000&#x27;, &#x27;2023-01-12T18:00:00.000000000&#x27;,\n",
       "       &#x27;2023-01-13T00:00:00.000000000&#x27;, &#x27;2023-01-13T06:00:00.000000000&#x27;,\n",
       "       &#x27;2023-01-13T12:00:00.000000000&#x27;, &#x27;2023-01-13T18:00:00.000000000&#x27;,\n",
       "       &#x27;2023-01-14T00:00:00.000000000&#x27;, &#x27;2023-01-14T06:00:00.000000000&#x27;,\n",
       "       &#x27;2023-01-14T12:00:00.000000000&#x27;, &#x27;2023-01-14T18:00:00.000000000&#x27;,\n",
       "       &#x27;2023-01-15T00:00:00.000000000&#x27;, &#x27;2023-01-15T06:00:00.000000000&#x27;,\n",
       "       &#x27;2023-01-15T12:00:00.000000000&#x27;, &#x27;2023-01-15T18:00:00.000000000&#x27;,\n",
       "       &#x27;2023-01-16T00:00:00.000000000&#x27;, &#x27;2023-01-16T06:00:00.000000000&#x27;,\n",
       "       &#x27;2023-01-16T12:00:00.000000000&#x27;, &#x27;2023-01-16T18:00:00.000000000&#x27;,\n",
       "       &#x27;2023-01-17T00:00:00.000000000&#x27;, &#x27;2023-01-17T06:00:00.000000000&#x27;,\n",
       "       &#x27;2023-01-17T12:00:00.000000000&#x27;, &#x27;2023-01-17T18:00:00.000000000&#x27;,\n",
       "       &#x27;2023-01-18T00:00:00.000000000&#x27;, &#x27;2023-01-18T06:00:00.000000000&#x27;,\n",
       "       &#x27;2023-01-18T12:00:00.000000000&#x27;, &#x27;2023-01-18T18:00:00.000000000&#x27;,\n",
       "       &#x27;2023-01-19T00:00:00.000000000&#x27;, &#x27;2023-01-19T06:00:00.000000000&#x27;,\n",
       "       &#x27;2023-01-19T12:00:00.000000000&#x27;, &#x27;2023-01-19T18:00:00.000000000&#x27;,\n",
       "       &#x27;2023-01-20T00:00:00.000000000&#x27;, &#x27;2023-01-20T06:00:00.000000000&#x27;,\n",
       "       &#x27;2023-01-20T12:00:00.000000000&#x27;, &#x27;2023-01-20T18:00:00.000000000&#x27;,\n",
       "       &#x27;2023-01-21T00:00:00.000000000&#x27;, &#x27;2023-01-21T06:00:00.000000000&#x27;,\n",
       "       &#x27;2023-01-21T12:00:00.000000000&#x27;, &#x27;2023-01-21T18:00:00.000000000&#x27;,\n",
       "       &#x27;2023-01-22T00:00:00.000000000&#x27;, &#x27;2023-01-22T06:00:00.000000000&#x27;,\n",
       "       &#x27;2023-01-22T12:00:00.000000000&#x27;, &#x27;2023-01-22T18:00:00.000000000&#x27;,\n",
       "       &#x27;2023-01-23T00:00:00.000000000&#x27;, &#x27;2023-01-23T06:00:00.000000000&#x27;,\n",
       "       &#x27;2023-01-23T12:00:00.000000000&#x27;, &#x27;2023-01-23T18:00:00.000000000&#x27;,\n",
       "       &#x27;2023-01-24T00:00:00.000000000&#x27;, &#x27;2023-01-24T06:00:00.000000000&#x27;,\n",
       "       &#x27;2023-01-24T12:00:00.000000000&#x27;, &#x27;2023-01-24T18:00:00.000000000&#x27;,\n",
       "       &#x27;2023-01-25T00:00:00.000000000&#x27;, &#x27;2023-01-25T06:00:00.000000000&#x27;,\n",
       "       &#x27;2023-01-25T12:00:00.000000000&#x27;, &#x27;2023-01-25T18:00:00.000000000&#x27;,\n",
       "       &#x27;2023-01-26T00:00:00.000000000&#x27;, &#x27;2023-01-26T06:00:00.000000000&#x27;,\n",
       "       &#x27;2023-01-26T12:00:00.000000000&#x27;, &#x27;2023-01-26T18:00:00.000000000&#x27;,\n",
       "       &#x27;2023-01-27T00:00:00.000000000&#x27;, &#x27;2023-01-27T06:00:00.000000000&#x27;,\n",
       "       &#x27;2023-01-27T12:00:00.000000000&#x27;, &#x27;2023-01-27T18:00:00.000000000&#x27;,\n",
       "       &#x27;2023-01-28T00:00:00.000000000&#x27;, &#x27;2023-01-28T06:00:00.000000000&#x27;,\n",
       "       &#x27;2023-01-28T12:00:00.000000000&#x27;, &#x27;2023-01-28T18:00:00.000000000&#x27;,\n",
       "       &#x27;2023-01-29T00:00:00.000000000&#x27;, &#x27;2023-01-29T06:00:00.000000000&#x27;,\n",
       "       &#x27;2023-01-29T12:00:00.000000000&#x27;, &#x27;2023-01-29T18:00:00.000000000&#x27;,\n",
       "       &#x27;2023-01-30T00:00:00.000000000&#x27;, &#x27;2023-01-30T06:00:00.000000000&#x27;,\n",
       "       &#x27;2023-01-30T12:00:00.000000000&#x27;, &#x27;2023-01-30T18:00:00.000000000&#x27;,\n",
       "       &#x27;2023-01-31T00:00:00.000000000&#x27;, &#x27;2023-01-31T06:00:00.000000000&#x27;,\n",
       "       &#x27;2023-01-31T12:00:00.000000000&#x27;, &#x27;2023-01-31T18:00:00.000000000&#x27;,\n",
       "       &#x27;2023-02-01T00:00:00.000000000&#x27;, &#x27;2023-02-01T06:00:00.000000000&#x27;,\n",
       "       &#x27;2023-02-01T12:00:00.000000000&#x27;, &#x27;2023-02-01T18:00:00.000000000&#x27;,\n",
       "       &#x27;2023-02-02T00:00:00.000000000&#x27;, &#x27;2023-02-02T06:00:00.000000000&#x27;,\n",
       "       &#x27;2023-02-02T12:00:00.000000000&#x27;, &#x27;2023-02-02T18:00:00.000000000&#x27;,\n",
       "       &#x27;2023-02-03T00:00:00.000000000&#x27;, &#x27;2023-02-03T06:00:00.000000000&#x27;,\n",
       "       &#x27;2023-02-03T12:00:00.000000000&#x27;, &#x27;2023-02-03T18:00:00.000000000&#x27;,\n",
       "       &#x27;2023-02-04T00:00:00.000000000&#x27;, &#x27;2023-02-04T06:00:00.000000000&#x27;,\n",
       "       &#x27;2023-02-04T12:00:00.000000000&#x27;, &#x27;2023-02-04T18:00:00.000000000&#x27;,\n",
       "       &#x27;2023-02-05T00:00:00.000000000&#x27;, &#x27;2023-02-05T06:00:00.000000000&#x27;,\n",
       "       &#x27;2023-02-05T12:00:00.000000000&#x27;, &#x27;2023-02-05T18:00:00.000000000&#x27;,\n",
       "       &#x27;2023-02-06T00:00:00.000000000&#x27;, &#x27;2023-02-06T06:00:00.000000000&#x27;,\n",
       "       &#x27;2023-02-06T12:00:00.000000000&#x27;, &#x27;2023-02-06T18:00:00.000000000&#x27;],\n",
       "      dtype=&#x27;datetime64[ns]&#x27;)</pre></div></li></ul></div></li><li class='xr-section-item'><input id='section-091fe364-0202-4b8e-a0d0-c97a8d009208' class='xr-section-summary-in' type='checkbox'  checked><label for='section-091fe364-0202-4b8e-a0d0-c97a8d009208' class='xr-section-summary' >Data variables: <span>(1)</span></label><div class='xr-section-inline-details'></div><div class='xr-section-details'><ul class='xr-var-list'><li class='xr-var-item'><div class='xr-var-name'><span>air</span></div><div class='xr-var-dims'>(time, lat, lon)</div><div class='xr-var-dtype'>float32</div><div class='xr-var-preview xr-preview'>...</div><input id='attrs-4ed44862-2913-4f8e-bb6b-76e9c4d6dba5' class='xr-var-attrs-in' type='checkbox' ><label for='attrs-4ed44862-2913-4f8e-bb6b-76e9c4d6dba5' title='Show/Hide attributes'><svg class='icon xr-icon-file-text2'><use xlink:href='#icon-file-text2'></use></svg></label><input id='data-b90595d8-9699-4d21-b49e-d97c325dbf25' class='xr-var-data-in' type='checkbox'><label for='data-b90595d8-9699-4d21-b49e-d97c325dbf25' title='Show/Hide data repr'><svg class='icon xr-icon-database'><use xlink:href='#icon-database'></use></svg></label><div class='xr-var-attrs'><dl class='xr-attrs'><dt><span>long_name :</span></dt><dd>4xDaily Air temperature at sigma level 995</dd><dt><span>units :</span></dt><dd>degK</dd><dt><span>precision :</span></dt><dd>2</dd><dt><span>GRIB_id :</span></dt><dd>11</dd><dt><span>GRIB_name :</span></dt><dd>TMP</dd><dt><span>var_desc :</span></dt><dd>Air temperature</dd><dt><span>level_desc :</span></dt><dd>Surface</dd><dt><span>statistic :</span></dt><dd>Individual Obs</dd><dt><span>parent_stat :</span></dt><dd>Other</dd><dt><span>valid_range :</span></dt><dd>[185.16 331.16]</dd><dt><span>dataset :</span></dt><dd>NCEP Reanalysis</dd><dt><span>actual_range :</span></dt><dd>[216.49997 317.5    ]</dd><dt><span>_ChunkSizes :</span></dt><dd>[  1  73 144]</dd></dl></div><div class='xr-var-data'><pre>[1555776 values with dtype=float32]</pre></div></li></ul></div></li><li class='xr-section-item'><input id='section-cce26ce5-bd52-4689-8e10-0e0074ad49d7' class='xr-section-summary-in' type='checkbox'  ><label for='section-cce26ce5-bd52-4689-8e10-0e0074ad49d7' class='xr-section-summary' >Indexes: <span>(3)</span></label><div class='xr-section-inline-details'></div><div class='xr-section-details'><ul class='xr-var-list'><li class='xr-var-item'><div class='xr-index-name'><div>lat</div></div><div class='xr-index-preview'>PandasIndex</div><div></div><input id='index-8c072335-e6d3-4760-bf76-b983e118049d' class='xr-index-data-in' type='checkbox'/><label for='index-8c072335-e6d3-4760-bf76-b983e118049d' title='Show/Hide index repr'><svg class='icon xr-icon-database'><use xlink:href='#icon-database'></use></svg></label><div class='xr-index-data'><pre>PandasIndex(Float64Index([ 90.0,  87.5,  85.0,  82.5,  80.0,  77.5,  75.0,  72.5,  70.0,\n",
       "               67.5,  65.0,  62.5,  60.0,  57.5,  55.0,  52.5,  50.0,  47.5,\n",
       "               45.0,  42.5,  40.0,  37.5,  35.0,  32.5,  30.0,  27.5,  25.0,\n",
       "               22.5,  20.0,  17.5,  15.0,  12.5,  10.0,   7.5,   5.0,   2.5,\n",
       "                0.0,  -2.5,  -5.0,  -7.5, -10.0, -12.5, -15.0, -17.5, -20.0,\n",
       "              -22.5, -25.0, -27.5, -30.0, -32.5, -35.0, -37.5, -40.0, -42.5,\n",
       "              -45.0, -47.5, -50.0, -52.5, -55.0, -57.5, -60.0, -62.5, -65.0,\n",
       "              -67.5, -70.0, -72.5, -75.0, -77.5, -80.0, -82.5, -85.0, -87.5,\n",
       "              -90.0],\n",
       "             dtype=&#x27;float64&#x27;, name=&#x27;lat&#x27;))</pre></div></li><li class='xr-var-item'><div class='xr-index-name'><div>lon</div></div><div class='xr-index-preview'>PandasIndex</div><div></div><input id='index-4d6e5db4-4edf-44fb-ae24-361550aa8220' class='xr-index-data-in' type='checkbox'/><label for='index-4d6e5db4-4edf-44fb-ae24-361550aa8220' title='Show/Hide index repr'><svg class='icon xr-icon-database'><use xlink:href='#icon-database'></use></svg></label><div class='xr-index-data'><pre>PandasIndex(Float64Index([  0.0,   2.5,   5.0,   7.5,  10.0,  12.5,  15.0,  17.5,  20.0,\n",
       "               22.5,\n",
       "              ...\n",
       "              335.0, 337.5, 340.0, 342.5, 345.0, 347.5, 350.0, 352.5, 355.0,\n",
       "              357.5],\n",
       "             dtype=&#x27;float64&#x27;, name=&#x27;lon&#x27;, length=144))</pre></div></li><li class='xr-var-item'><div class='xr-index-name'><div>time</div></div><div class='xr-index-preview'>PandasIndex</div><div></div><input id='index-c1637b92-d600-4826-9e11-a03d09d6dd77' class='xr-index-data-in' type='checkbox'/><label for='index-c1637b92-d600-4826-9e11-a03d09d6dd77' title='Show/Hide index repr'><svg class='icon xr-icon-database'><use xlink:href='#icon-database'></use></svg></label><div class='xr-index-data'><pre>PandasIndex(DatetimeIndex([&#x27;2023-01-01 00:00:00&#x27;, &#x27;2023-01-01 06:00:00&#x27;,\n",
       "               &#x27;2023-01-01 12:00:00&#x27;, &#x27;2023-01-01 18:00:00&#x27;,\n",
       "               &#x27;2023-01-02 00:00:00&#x27;, &#x27;2023-01-02 06:00:00&#x27;,\n",
       "               &#x27;2023-01-02 12:00:00&#x27;, &#x27;2023-01-02 18:00:00&#x27;,\n",
       "               &#x27;2023-01-03 00:00:00&#x27;, &#x27;2023-01-03 06:00:00&#x27;,\n",
       "               ...\n",
       "               &#x27;2023-02-04 12:00:00&#x27;, &#x27;2023-02-04 18:00:00&#x27;,\n",
       "               &#x27;2023-02-05 00:00:00&#x27;, &#x27;2023-02-05 06:00:00&#x27;,\n",
       "               &#x27;2023-02-05 12:00:00&#x27;, &#x27;2023-02-05 18:00:00&#x27;,\n",
       "               &#x27;2023-02-06 00:00:00&#x27;, &#x27;2023-02-06 06:00:00&#x27;,\n",
       "               &#x27;2023-02-06 12:00:00&#x27;, &#x27;2023-02-06 18:00:00&#x27;],\n",
       "              dtype=&#x27;datetime64[ns]&#x27;, name=&#x27;time&#x27;, length=148, freq=None))</pre></div></li></ul></div></li><li class='xr-section-item'><input id='section-2e38d50c-7cc0-4dad-804a-af8bcc969303' class='xr-section-summary-in' type='checkbox'  checked><label for='section-2e38d50c-7cc0-4dad-804a-af8bcc969303' class='xr-section-summary' >Attributes: <span>(9)</span></label><div class='xr-section-inline-details'></div><div class='xr-section-details'><dl class='xr-attrs'><dt><span>Conventions :</span></dt><dd>COARDS</dd><dt><span>title :</span></dt><dd>4x daily NMC reanalysis (2014)</dd><dt><span>history :</span></dt><dd>created 2022/12 by Hoop (netCDF2.3)</dd><dt><span>description :</span></dt><dd>Data is from NMC initialized reanalysis\n",
       "(4x/day).  These are the 0.9950 sigma level values.</dd><dt><span>platform :</span></dt><dd>Model</dd><dt><span>dataset_title :</span></dt><dd>NCEP-NCAR Reanalysis 1</dd><dt><span>References :</span></dt><dd>http://www.psl.noaa.gov/data/gridded/data.ncep.reanalysis.html</dd><dt><span>_NCProperties :</span></dt><dd>version=2,netcdf=4.7.0,hdf5=1.10.5,</dd><dt><span>DODS_EXTRA.Unlimited_Dimension :</span></dt><dd>time</dd></dl></div></li></ul></div></div>"
      ],
      "text/plain": [
       "<xarray.Dataset>\n",
       "Dimensions:  (lat: 73, lon: 144, time: 148)\n",
       "Coordinates:\n",
       "  * lat      (lat) float32 90.0 87.5 85.0 82.5 80.0 ... -82.5 -85.0 -87.5 -90.0\n",
       "  * lon      (lon) float32 0.0 2.5 5.0 7.5 10.0 ... 350.0 352.5 355.0 357.5\n",
       "  * time     (time) datetime64[ns] 2023-01-01 ... 2023-02-06T18:00:00\n",
       "Data variables:\n",
       "    air      (time, lat, lon) float32 ...\n",
       "Attributes:\n",
       "    Conventions:                     COARDS\n",
       "    title:                           4x daily NMC reanalysis (2014)\n",
       "    history:                         created 2022/12 by Hoop (netCDF2.3)\n",
       "    description:                     Data is from NMC initialized reanalysis\\...\n",
       "    platform:                        Model\n",
       "    dataset_title:                   NCEP-NCAR Reanalysis 1\n",
       "    References:                      http://www.psl.noaa.gov/data/gridded/dat...\n",
       "    _NCProperties:                   version=2,netcdf=4.7.0,hdf5=1.10.5,\n",
       "    DODS_EXTRA.Unlimited_Dimension:  time"
      ]
     },
     "execution_count": 4,
     "metadata": {},
     "output_type": "execute_result"
    }
   ],
   "source": [
    "file = 'http://www.esrl.noaa.gov/psd/thredds/dodsC/Datasets/ncep.reanalysis/surface/air.sig995.2023.nc'\n",
    "ds = xr.open_dataset(file)\n",
    "ds"
   ]
  },
  {
   "cell_type": "code",
   "execution_count": null,
   "metadata": {},
   "outputs": [],
   "source": [
    "ds.air.isel(time=-1).plot()"
   ]
  },
  {
   "cell_type": "code",
   "execution_count": null,
   "metadata": {},
   "outputs": [],
   "source": [
    "#Plot temperature of a point\n",
    "lat_pvd=41.8\n",
    "lon_pvd=-71.4+360\n",
    "ds.air.sel(lat=lat_pvd,lon=lon_pvd , method='nearest').plot()"
   ]
  },
  {
   "cell_type": "markdown",
   "metadata": {},
   "source": [
    "### Evaporation again"
   ]
  },
  {
   "cell_type": "code",
   "execution_count": null,
   "metadata": {},
   "outputs": [],
   "source": [
    "file_loc=\"https://psl.noaa.gov/thredds/dodsC/Datasets/ncep.reanalysis2.derived/LTMs/gaussian_grid/\"\n",
    "file1=\"lhtfl.sfc.mon.ltm.nc\"\n",
    "ds1 = xr.open_dataset(file_loc+file1)\n",
    "ds1"
   ]
  },
  {
   "cell_type": "code",
   "execution_count": null,
   "metadata": {},
   "outputs": [],
   "source": [
    "# annual average evaporation\n",
    "ds1.lhtfl.mean(\"time\").plot()"
   ]
  },
  {
   "cell_type": "code",
   "execution_count": null,
   "metadata": {},
   "outputs": [],
   "source": [
    "# Make a prettier plot\n",
    "\n",
    "cmap1=plt.cm.gist_earth_r     # color table\n",
    "lev1=np.arange(-10,255,5)\n",
    "proj = ccrs.PlateCarree()\n",
    "\n",
    "fig = plt.figure(figsize=(9,5))\n",
    "ax = plt.axes(projection=ccrs.PlateCarree(central_longitude=180))\n",
    "(ds1.lhtfl).mean(\"time\").plot.contourf(ax=ax, transform=ccrs.PlateCarree(),levels=lev1, cmap=cmap1)\n",
    "ax.coastlines()\n",
    "plt.title(\"Annual mean surface latent heat flux (W/m2)\")"
   ]
  },
  {
   "cell_type": "markdown",
   "metadata": {},
   "source": [
    "Reference: <br>\n",
    "    University of College London Python lecture note <br>\n",
    "    MIT Python lecture note <br>\n",
    "    Scipy lecture notes (http://scipy-lectures.org/index.html)\n",
    "    Jupyter notebook \n",
    "    (https://jupyter-notebook.readthedocs.io/en/stable/index.html)"
   ]
  }
 ],
 "metadata": {
  "colab": {
   "collapsed_sections": [
    "yZyY3DkZbXHN",
    "c96GnJLabXHX",
    "6cXqS8QjbXHY",
    "iGdI7BnDbXHZ",
    "zsOZPDmmbXHa"
   ],
   "name": "04_list.ipynb",
   "provenance": []
  },
  "kernelspec": {
   "display_name": "Python 3 (ipykernel)",
   "language": "python",
   "name": "python3"
  },
  "language_info": {
   "codemirror_mode": {
    "name": "ipython",
    "version": 3
   },
   "file_extension": ".py",
   "mimetype": "text/x-python",
   "name": "python",
   "nbconvert_exporter": "python",
   "pygments_lexer": "ipython3",
   "version": "3.10.8"
  }
 },
 "nbformat": 4,
 "nbformat_minor": 4
}
