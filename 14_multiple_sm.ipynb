{
 "cells": [
  {
   "cell_type": "markdown",
   "id": "47518c76-a4d7-4022-8613-a66c1e913b2f",
   "metadata": {},
   "source": [
    "# Working with multiple files"
   ]
  },
  {
   "cell_type": "code",
   "execution_count": null,
   "id": "283e197e-4188-4b79-84e5-dd9636b335d9",
   "metadata": {},
   "outputs": [],
   "source": [
    "import xarray as xr\n",
    "import numpy as np\n",
    "import dask\n",
    "import matplotlib.pyplot as plt\n",
    "import cartopy.crs as ccrs"
   ]
  },
  {
   "cell_type": "markdown",
   "id": "db83e2bc-b60c-4169-9de9-eaba4e9b2074",
   "metadata": {},
   "source": [
    "Let's first download the files. I downloaded the files from the ECMWF Data Archive (https://cds.climate.copernicus.eu). You can have download the files from Canvas/Files/soil_moisture."
   ]
  },
  {
   "cell_type": "markdown",
   "id": "bb7cc5a5-5dec-4554-a700-ce147da4641a",
   "metadata": {},
   "source": [
    "For now download 12 netcdf files (files that end with nc).\n",
    "Please upload the files."
   ]
  },
  {
   "cell_type": "code",
   "execution_count": null,
   "id": "f2410dfb-9a34-4eae-b660-c8cf52921eeb",
   "metadata": {},
   "outputs": [],
   "source": [
    "with xr.open_mfdataset(\"C3S*.nc\") as ds1:\n",
    "    print(ds1)\n",
    "    sm=ds1.sm"
   ]
  },
  {
   "cell_type": "code",
   "execution_count": null,
   "id": "8175954f-44e6-4fdb-91c7-93b186f639b1",
   "metadata": {},
   "outputs": [],
   "source": [
    "# Check the time axis\n",
    "ds1.time"
   ]
  },
  {
   "cell_type": "code",
   "execution_count": null,
   "id": "51f673eb-2c0c-4686-a038-6b644fcccbd3",
   "metadata": {},
   "outputs": [],
   "source": [
    "# Let's plot soil moisture for the first month.\n",
    "ds1.sm.isel(time=0).plot()"
   ]
  },
  {
   "cell_type": "markdown",
   "id": "36dac8a8-157c-4937-9c76-1a9549a21827",
   "metadata": {},
   "source": [
    "### Exercise\n",
    "Plot July soil moisture."
   ]
  },
  {
   "cell_type": "code",
   "execution_count": null,
   "id": "51fbe815-54d1-4b65-9708-5f0c7277ce84",
   "metadata": {},
   "outputs": [],
   "source": []
  },
  {
   "cell_type": "markdown",
   "id": "5d639651-cac2-45ed-b3ad-23f98efd5bee",
   "metadata": {},
   "source": [
    "### Exercise\n",
    "Read files for 2012."
   ]
  },
  {
   "cell_type": "code",
   "execution_count": null,
   "id": "4d000cf4-1ad0-4f77-9ea4-bed6f345db5f",
   "metadata": {},
   "outputs": [],
   "source": []
  },
  {
   "cell_type": "markdown",
   "id": "ad6a2baa-67b2-4d48-8017-26a8b3ee98c2",
   "metadata": {},
   "source": [
    "### Plot the difference\n",
    "Plot the difference between 2020 and 2012 July (2012 July minus 2020 July). You need to download the zip file Canvas/Files/soil_moisture. When you unzip, you can see all the files."
   ]
  },
  {
   "cell_type": "markdown",
   "id": "b2726052-2d91-4f92-839d-2616cbc1d852",
   "metadata": {},
   "source": [
    "### Exercise\n",
    "First, upload the files for 2012, open them, and save them as ds1."
   ]
  },
  {
   "cell_type": "code",
   "execution_count": null,
   "id": "c25fb870-881d-4a78-bdba-79859b8c068d",
   "metadata": {},
   "outputs": [],
   "source": []
  },
  {
   "cell_type": "markdown",
   "id": "194dbe4f-d43b-48b7-a308-85e0940d82c1",
   "metadata": {},
   "source": [
    "### Exercise\n",
    "Now plot the difference between 2020 and 2012 July (2012 July minus 2020 July)."
   ]
  },
  {
   "cell_type": "code",
   "execution_count": null,
   "id": "1186d849-4cb4-49d5-8726-82320f2344f2",
   "metadata": {},
   "outputs": [],
   "source": []
  }
 ],
 "metadata": {
  "kernelspec": {
   "display_name": "Python 3 (ipykernel)",
   "language": "python",
   "name": "python3"
  },
  "language_info": {
   "codemirror_mode": {
    "name": "ipython",
    "version": 3
   },
   "file_extension": ".py",
   "mimetype": "text/x-python",
   "name": "python",
   "nbconvert_exporter": "python",
   "pygments_lexer": "ipython3",
   "version": "3.10.8"
  }
 },
 "nbformat": 4,
 "nbformat_minor": 5
}
